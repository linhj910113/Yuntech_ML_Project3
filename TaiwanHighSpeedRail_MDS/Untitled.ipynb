{
 "cells": [
  {
   "cell_type": "code",
   "execution_count": 1,
   "id": "12baaa6c",
   "metadata": {
    "ExecuteTime": {
     "end_time": "2021-05-31T13:08:24.517552Z",
     "start_time": "2021-05-31T13:08:22.792267Z"
    }
   },
   "outputs": [],
   "source": [
    "import numpy as np\n",
    "import pandas as pd\n",
    "import matplotlib.pyplot as plt\n",
    "import networkx as nx \n",
    "import dash\n",
    "import dash_core_components as dcc\n",
    "import dash_html_components as html\n",
    "\n",
    "from sklearn.manifold import MDS\n",
    "from scipy.spatial import distance"
   ]
  },
  {
   "cell_type": "code",
   "execution_count": 2,
   "id": "01c5e302",
   "metadata": {
    "ExecuteTime": {
     "end_time": "2021-05-31T13:08:24.526529Z",
     "start_time": "2021-05-31T13:08:24.518537Z"
    }
   },
   "outputs": [],
   "source": [
    "x = pd.read_csv('taiwan-high-speed-rail.csv',encoding='utf-8')"
   ]
  },
  {
   "cell_type": "code",
   "execution_count": 3,
   "id": "4e0cb8b2",
   "metadata": {
    "ExecuteTime": {
     "end_time": "2021-05-31T13:08:24.610470Z",
     "start_time": "2021-05-31T13:08:24.528517Z"
    }
   },
   "outputs": [
    {
     "data": {
      "text/html": [
       "<div>\n",
       "<style scoped>\n",
       "    .dataframe tbody tr th:only-of-type {\n",
       "        vertical-align: middle;\n",
       "    }\n",
       "\n",
       "    .dataframe tbody tr th {\n",
       "        vertical-align: top;\n",
       "    }\n",
       "\n",
       "    .dataframe thead th {\n",
       "        text-align: right;\n",
       "    }\n",
       "</style>\n",
       "<table border=\"1\" class=\"dataframe\">\n",
       "  <thead>\n",
       "    <tr style=\"text-align: right;\">\n",
       "      <th></th>\n",
       "      <th>id</th>\n",
       "      <th>name</th>\n",
       "      <th>zipcode</th>\n",
       "      <th>address</th>\n",
       "      <th>lat</th>\n",
       "      <th>lon</th>\n",
       "    </tr>\n",
       "  </thead>\n",
       "  <tbody>\n",
       "    <tr>\n",
       "      <th>0</th>\n",
       "      <td>1</td>\n",
       "      <td>台北站</td>\n",
       "      <td>10041</td>\n",
       "      <td>台北市中正區北平西路3號</td>\n",
       "      <td>25.047924</td>\n",
       "      <td>121.517081</td>\n",
       "    </tr>\n",
       "    <tr>\n",
       "      <th>1</th>\n",
       "      <td>2</td>\n",
       "      <td>桃園站</td>\n",
       "      <td>32056</td>\n",
       "      <td>桃園縣中壢市高鐵北路一段6號</td>\n",
       "      <td>25.013093</td>\n",
       "      <td>121.215217</td>\n",
       "    </tr>\n",
       "    <tr>\n",
       "      <th>2</th>\n",
       "      <td>3</td>\n",
       "      <td>新竹站</td>\n",
       "      <td>30273</td>\n",
       "      <td>新竹縣竹北市高鐵七路6號</td>\n",
       "      <td>24.808060</td>\n",
       "      <td>121.040415</td>\n",
       "    </tr>\n",
       "    <tr>\n",
       "      <th>3</th>\n",
       "      <td>4</td>\n",
       "      <td>台中站</td>\n",
       "      <td>41456</td>\n",
       "      <td>台中市烏日區站區二路8號</td>\n",
       "      <td>24.112143</td>\n",
       "      <td>120.616152</td>\n",
       "    </tr>\n",
       "    <tr>\n",
       "      <th>4</th>\n",
       "      <td>5</td>\n",
       "      <td>雲林站</td>\n",
       "      <td>63247</td>\n",
       "      <td>雲林縣虎尾鎮站前東路301號</td>\n",
       "      <td>23.733558</td>\n",
       "      <td>120.417303</td>\n",
       "    </tr>\n",
       "    <tr>\n",
       "      <th>5</th>\n",
       "      <td>6</td>\n",
       "      <td>台南站</td>\n",
       "      <td>71151</td>\n",
       "      <td>台南市歸仁區歸仁大道100號</td>\n",
       "      <td>22.924928</td>\n",
       "      <td>120.285720</td>\n",
       "    </tr>\n",
       "    <tr>\n",
       "      <th>6</th>\n",
       "      <td>7</td>\n",
       "      <td>左營站</td>\n",
       "      <td>81361</td>\n",
       "      <td>高雄市左營區高鐵路105號</td>\n",
       "      <td>22.686927</td>\n",
       "      <td>120.307827</td>\n",
       "    </tr>\n",
       "  </tbody>\n",
       "</table>\n",
       "</div>"
      ],
      "text/plain": [
       "   id name  zipcode         address        lat         lon\n",
       "0   1  台北站    10041    台北市中正區北平西路3號  25.047924  121.517081\n",
       "1   2  桃園站    32056  桃園縣中壢市高鐵北路一段6號  25.013093  121.215217\n",
       "2   3  新竹站    30273    新竹縣竹北市高鐵七路6號  24.808060  121.040415\n",
       "3   4  台中站    41456    台中市烏日區站區二路8號  24.112143  120.616152\n",
       "4   5  雲林站    63247  雲林縣虎尾鎮站前東路301號  23.733558  120.417303\n",
       "5   6  台南站    71151  台南市歸仁區歸仁大道100號  22.924928  120.285720\n",
       "6   7  左營站    81361   高雄市左營區高鐵路105號  22.686927  120.307827"
      ]
     },
     "execution_count": 3,
     "metadata": {},
     "output_type": "execute_result"
    }
   ],
   "source": [
    "x"
   ]
  },
  {
   "cell_type": "code",
   "execution_count": 4,
   "id": "d9865029",
   "metadata": {
    "ExecuteTime": {
     "end_time": "2021-05-31T13:08:26.970816Z",
     "start_time": "2021-05-31T13:08:26.967817Z"
    }
   },
   "outputs": [],
   "source": [
    "title=x[\"name\"].values"
   ]
  },
  {
   "cell_type": "code",
   "execution_count": 5,
   "id": "7f1c92e9",
   "metadata": {
    "ExecuteTime": {
     "end_time": "2021-05-31T13:08:28.485581Z",
     "start_time": "2021-05-31T13:08:28.471589Z"
    }
   },
   "outputs": [],
   "source": [
    "y=x[[\"lat\",\"lon\"]]"
   ]
  },
  {
   "cell_type": "code",
   "execution_count": 6,
   "id": "17ebcf7e",
   "metadata": {
    "ExecuteTime": {
     "end_time": "2021-05-31T13:08:28.702736Z",
     "start_time": "2021-05-31T13:08:28.695741Z"
    }
   },
   "outputs": [
    {
     "data": {
      "text/html": [
       "<div>\n",
       "<style scoped>\n",
       "    .dataframe tbody tr th:only-of-type {\n",
       "        vertical-align: middle;\n",
       "    }\n",
       "\n",
       "    .dataframe tbody tr th {\n",
       "        vertical-align: top;\n",
       "    }\n",
       "\n",
       "    .dataframe thead th {\n",
       "        text-align: right;\n",
       "    }\n",
       "</style>\n",
       "<table border=\"1\" class=\"dataframe\">\n",
       "  <thead>\n",
       "    <tr style=\"text-align: right;\">\n",
       "      <th></th>\n",
       "      <th>lat</th>\n",
       "      <th>lon</th>\n",
       "    </tr>\n",
       "  </thead>\n",
       "  <tbody>\n",
       "    <tr>\n",
       "      <th>0</th>\n",
       "      <td>25.047924</td>\n",
       "      <td>121.517081</td>\n",
       "    </tr>\n",
       "    <tr>\n",
       "      <th>1</th>\n",
       "      <td>25.013093</td>\n",
       "      <td>121.215217</td>\n",
       "    </tr>\n",
       "    <tr>\n",
       "      <th>2</th>\n",
       "      <td>24.808060</td>\n",
       "      <td>121.040415</td>\n",
       "    </tr>\n",
       "    <tr>\n",
       "      <th>3</th>\n",
       "      <td>24.112143</td>\n",
       "      <td>120.616152</td>\n",
       "    </tr>\n",
       "    <tr>\n",
       "      <th>4</th>\n",
       "      <td>23.733558</td>\n",
       "      <td>120.417303</td>\n",
       "    </tr>\n",
       "    <tr>\n",
       "      <th>5</th>\n",
       "      <td>22.924928</td>\n",
       "      <td>120.285720</td>\n",
       "    </tr>\n",
       "    <tr>\n",
       "      <th>6</th>\n",
       "      <td>22.686927</td>\n",
       "      <td>120.307827</td>\n",
       "    </tr>\n",
       "  </tbody>\n",
       "</table>\n",
       "</div>"
      ],
      "text/plain": [
       "         lat         lon\n",
       "0  25.047924  121.517081\n",
       "1  25.013093  121.215217\n",
       "2  24.808060  121.040415\n",
       "3  24.112143  120.616152\n",
       "4  23.733558  120.417303\n",
       "5  22.924928  120.285720\n",
       "6  22.686927  120.307827"
      ]
     },
     "execution_count": 6,
     "metadata": {},
     "output_type": "execute_result"
    }
   ],
   "source": [
    "y"
   ]
  },
  {
   "cell_type": "code",
   "execution_count": 7,
   "id": "e1f9b02e",
   "metadata": {
    "ExecuteTime": {
     "end_time": "2021-05-31T13:08:29.425000Z",
     "start_time": "2021-05-31T13:08:29.416017Z"
    }
   },
   "outputs": [],
   "source": [
    "dis_matrix1=distance.cdist(y, y, 'euclidean')"
   ]
  },
  {
   "cell_type": "code",
   "execution_count": 8,
   "id": "f8b9c388",
   "metadata": {
    "ExecuteTime": {
     "end_time": "2021-05-31T13:08:29.668891Z",
     "start_time": "2021-05-31T13:08:29.663892Z"
    }
   },
   "outputs": [
    {
     "data": {
      "text/plain": [
       "array([[0.        , 0.30386687, 0.53361523, 1.29898389, 1.71378849,\n",
       "        2.45425384, 2.65265943],\n",
       "       [0.30386687, 0.        , 0.26943324, 1.08193797, 1.5079382 ,\n",
       "        2.28569415, 2.49687903],\n",
       "       [0.53361523, 0.26943324, 0.        , 0.81504574, 1.24210465,\n",
       "        2.0287313 , 2.24407896],\n",
       "       [1.29898389, 1.08193797, 0.81504574, 0.        , 0.42763045,\n",
       "        1.23234117, 1.4581855 ],\n",
       "       [1.71378849, 1.5079382 , 1.24210465, 0.42763045, 0.        ,\n",
       "        0.81926569, 1.05234078],\n",
       "       [2.45425384, 2.28569415, 2.0287313 , 1.23234117, 0.81926569,\n",
       "        0.        , 0.23902551],\n",
       "       [2.65265943, 2.49687903, 2.24407896, 1.4581855 , 1.05234078,\n",
       "        0.23902551, 0.        ]])"
      ]
     },
     "execution_count": 8,
     "metadata": {},
     "output_type": "execute_result"
    }
   ],
   "source": [
    "dis_matrix1"
   ]
  },
  {
   "cell_type": "code",
   "execution_count": 9,
   "id": "780ebacc",
   "metadata": {
    "ExecuteTime": {
     "end_time": "2021-05-31T13:08:30.522328Z",
     "start_time": "2021-05-31T13:08:30.519330Z"
    }
   },
   "outputs": [],
   "source": [
    "a=pd.DataFrame(dis_matrix1,title,title)"
   ]
  },
  {
   "cell_type": "code",
   "execution_count": 10,
   "id": "e9b990c5",
   "metadata": {
    "ExecuteTime": {
     "end_time": "2021-05-31T13:08:31.802576Z",
     "start_time": "2021-05-31T13:08:31.791582Z"
    }
   },
   "outputs": [
    {
     "data": {
      "text/html": [
       "<div>\n",
       "<style scoped>\n",
       "    .dataframe tbody tr th:only-of-type {\n",
       "        vertical-align: middle;\n",
       "    }\n",
       "\n",
       "    .dataframe tbody tr th {\n",
       "        vertical-align: top;\n",
       "    }\n",
       "\n",
       "    .dataframe thead th {\n",
       "        text-align: right;\n",
       "    }\n",
       "</style>\n",
       "<table border=\"1\" class=\"dataframe\">\n",
       "  <thead>\n",
       "    <tr style=\"text-align: right;\">\n",
       "      <th></th>\n",
       "      <th>台北站</th>\n",
       "      <th>桃園站</th>\n",
       "      <th>新竹站</th>\n",
       "      <th>台中站</th>\n",
       "      <th>雲林站</th>\n",
       "      <th>台南站</th>\n",
       "      <th>左營站</th>\n",
       "    </tr>\n",
       "  </thead>\n",
       "  <tbody>\n",
       "    <tr>\n",
       "      <th>台北站</th>\n",
       "      <td>0.000000</td>\n",
       "      <td>0.303867</td>\n",
       "      <td>0.533615</td>\n",
       "      <td>1.298984</td>\n",
       "      <td>1.713788</td>\n",
       "      <td>2.454254</td>\n",
       "      <td>2.652659</td>\n",
       "    </tr>\n",
       "    <tr>\n",
       "      <th>桃園站</th>\n",
       "      <td>0.303867</td>\n",
       "      <td>0.000000</td>\n",
       "      <td>0.269433</td>\n",
       "      <td>1.081938</td>\n",
       "      <td>1.507938</td>\n",
       "      <td>2.285694</td>\n",
       "      <td>2.496879</td>\n",
       "    </tr>\n",
       "    <tr>\n",
       "      <th>新竹站</th>\n",
       "      <td>0.533615</td>\n",
       "      <td>0.269433</td>\n",
       "      <td>0.000000</td>\n",
       "      <td>0.815046</td>\n",
       "      <td>1.242105</td>\n",
       "      <td>2.028731</td>\n",
       "      <td>2.244079</td>\n",
       "    </tr>\n",
       "    <tr>\n",
       "      <th>台中站</th>\n",
       "      <td>1.298984</td>\n",
       "      <td>1.081938</td>\n",
       "      <td>0.815046</td>\n",
       "      <td>0.000000</td>\n",
       "      <td>0.427630</td>\n",
       "      <td>1.232341</td>\n",
       "      <td>1.458185</td>\n",
       "    </tr>\n",
       "    <tr>\n",
       "      <th>雲林站</th>\n",
       "      <td>1.713788</td>\n",
       "      <td>1.507938</td>\n",
       "      <td>1.242105</td>\n",
       "      <td>0.427630</td>\n",
       "      <td>0.000000</td>\n",
       "      <td>0.819266</td>\n",
       "      <td>1.052341</td>\n",
       "    </tr>\n",
       "    <tr>\n",
       "      <th>台南站</th>\n",
       "      <td>2.454254</td>\n",
       "      <td>2.285694</td>\n",
       "      <td>2.028731</td>\n",
       "      <td>1.232341</td>\n",
       "      <td>0.819266</td>\n",
       "      <td>0.000000</td>\n",
       "      <td>0.239026</td>\n",
       "    </tr>\n",
       "    <tr>\n",
       "      <th>左營站</th>\n",
       "      <td>2.652659</td>\n",
       "      <td>2.496879</td>\n",
       "      <td>2.244079</td>\n",
       "      <td>1.458185</td>\n",
       "      <td>1.052341</td>\n",
       "      <td>0.239026</td>\n",
       "      <td>0.000000</td>\n",
       "    </tr>\n",
       "  </tbody>\n",
       "</table>\n",
       "</div>"
      ],
      "text/plain": [
       "          台北站       桃園站       新竹站       台中站       雲林站       台南站       左營站\n",
       "台北站  0.000000  0.303867  0.533615  1.298984  1.713788  2.454254  2.652659\n",
       "桃園站  0.303867  0.000000  0.269433  1.081938  1.507938  2.285694  2.496879\n",
       "新竹站  0.533615  0.269433  0.000000  0.815046  1.242105  2.028731  2.244079\n",
       "台中站  1.298984  1.081938  0.815046  0.000000  0.427630  1.232341  1.458185\n",
       "雲林站  1.713788  1.507938  1.242105  0.427630  0.000000  0.819266  1.052341\n",
       "台南站  2.454254  2.285694  2.028731  1.232341  0.819266  0.000000  0.239026\n",
       "左營站  2.652659  2.496879  2.244079  1.458185  1.052341  0.239026  0.000000"
      ]
     },
     "execution_count": 10,
     "metadata": {},
     "output_type": "execute_result"
    }
   ],
   "source": [
    "a"
   ]
  },
  {
   "cell_type": "code",
   "execution_count": 11,
   "id": "b4fa4934",
   "metadata": {
    "ExecuteTime": {
     "end_time": "2021-05-31T13:08:32.779843Z",
     "start_time": "2021-05-31T13:08:32.630849Z"
    }
   },
   "outputs": [
    {
     "name": "stderr",
     "output_type": "stream",
     "text": [
      "D:\\anaconda3\\envs\\ML\\lib\\site-packages\\sklearn\\manifold\\_mds.py:441: UserWarning: The MDS API has changed. ``fit`` now constructs an dissimilarity matrix from data. To use a custom dissimilarity matrix, set ``dissimilarity='precomputed'``.\n",
      "  warnings.warn(\"The MDS API has changed. ``fit`` now constructs an\"\n"
     ]
    }
   ],
   "source": [
    "mds = MDS(n_components=2)\n",
    "result = mds.fit_transform(a)"
   ]
  },
  {
   "cell_type": "code",
   "execution_count": 12,
   "id": "1677c013",
   "metadata": {
    "ExecuteTime": {
     "end_time": "2021-05-31T13:08:33.182325Z",
     "start_time": "2021-05-31T13:08:33.177326Z"
    }
   },
   "outputs": [
    {
     "data": {
      "text/plain": [
       "array([[ 2.06349897, -1.34834867],\n",
       "       [ 2.19070759, -0.73700107],\n",
       "       [ 1.83269387, -0.26945774],\n",
       "       [ 0.25645476,  1.0202888 ],\n",
       "       [-0.75891706,  1.20341007],\n",
       "       [-2.61320501,  0.24292336],\n",
       "       [-2.97123312, -0.11181476]])"
      ]
     },
     "execution_count": 12,
     "metadata": {},
     "output_type": "execute_result"
    }
   ],
   "source": [
    "result"
   ]
  },
  {
   "cell_type": "code",
   "execution_count": 13,
   "id": "9df96890",
   "metadata": {
    "ExecuteTime": {
     "end_time": "2021-05-31T13:08:34.010384Z",
     "start_time": "2021-05-31T13:08:34.007386Z"
    }
   },
   "outputs": [],
   "source": [
    "# for i in result:\n",
    "#     i[1]=i[1]*-1"
   ]
  },
  {
   "cell_type": "code",
   "execution_count": 14,
   "id": "66516094",
   "metadata": {
    "ExecuteTime": {
     "end_time": "2021-05-31T13:08:34.300243Z",
     "start_time": "2021-05-31T13:08:34.295246Z"
    }
   },
   "outputs": [
    {
     "data": {
      "text/plain": [
       "array([[ 2.06349897, -1.34834867],\n",
       "       [ 2.19070759, -0.73700107],\n",
       "       [ 1.83269387, -0.26945774],\n",
       "       [ 0.25645476,  1.0202888 ],\n",
       "       [-0.75891706,  1.20341007],\n",
       "       [-2.61320501,  0.24292336],\n",
       "       [-2.97123312, -0.11181476]])"
      ]
     },
     "execution_count": 14,
     "metadata": {},
     "output_type": "execute_result"
    }
   ],
   "source": [
    "result"
   ]
  },
  {
   "cell_type": "code",
   "execution_count": 15,
   "id": "d38cda09",
   "metadata": {
    "ExecuteTime": {
     "end_time": "2021-05-31T13:08:34.602535Z",
     "start_time": "2021-05-31T13:08:34.598537Z"
    }
   },
   "outputs": [],
   "source": [
    "L=['Taipei','Taoyuan','Hsinchu','Taichung','Yullin','Tainan','Kaohsiung']"
   ]
  },
  {
   "cell_type": "code",
   "execution_count": 16,
   "id": "8383d764",
   "metadata": {
    "ExecuteTime": {
     "end_time": "2021-05-31T13:08:35.125151Z",
     "start_time": "2021-05-31T13:08:34.895783Z"
    }
   },
   "outputs": [
    {
     "data": {
      "image/png": "[encoded data removed]",
      "text/plain": [
       "<Figure size 432x288 with 1 Axes>"
      ]
     },
     "metadata": {
      "needs_background": "light"
     },
     "output_type": "display_data"
    }
   ],
   "source": [
    "plt.scatter(result[0:,0],result[0:,1],color='red')\n",
    "\n",
    "for i, label in enumerate(L):\n",
    "    plt.annotate(label, (result[i,0], result[i,1]))"
   ]
  },
  {
   "cell_type": "code",
   "execution_count": 19,
   "id": "ad5c2706",
   "metadata": {
    "ExecuteTime": {
     "end_time": "2021-05-31T13:12:14.949320Z",
     "start_time": "2021-05-31T13:12:14.937326Z"
    }
   },
   "outputs": [],
   "source": [
    "app = dash.Dash(__name__)"
   ]
  },
  {
   "cell_type": "code",
   "execution_count": 22,
   "id": "d5541a54",
   "metadata": {
    "ExecuteTime": {
     "end_time": "2021-05-31T13:12:32.974800Z",
     "start_time": "2021-05-31T13:12:32.958808Z"
    }
   },
   "outputs": [
    {
     "ename": "NameError",
     "evalue": "name 'styles' is not defined",
     "output_type": "error",
     "traceback": [
      "\u001b[1;31m---------------------------------------------------------------------------\u001b[0m",
      "\u001b[1;31mNameError\u001b[0m                                 Traceback (most recent call last)",
      "\u001b[1;32m<ipython-input-22-bb6743ffb36e>\u001b[0m in \u001b[0;36m<module>\u001b[1;34m\u001b[0m\n\u001b[0;32m     33\u001b[0m         \"\"\".replace('   ', '')),\n\u001b[0;32m     34\u001b[0m         \u001b[0mhtml\u001b[0m\u001b[1;33m.\u001b[0m\u001b[0mPre\u001b[0m\u001b[1;33m(\u001b[0m\u001b[0mid\u001b[0m\u001b[1;33m=\u001b[0m\u001b[1;34m'hover-data'\u001b[0m\u001b[1;33m)\u001b[0m\u001b[1;33m\u001b[0m\u001b[1;33m\u001b[0m\u001b[0m\n\u001b[1;32m---> 35\u001b[1;33m     ], style=styles['column']),\n\u001b[0m\u001b[0;32m     36\u001b[0m \u001b[1;33m\u001b[0m\u001b[0m\n\u001b[0;32m     37\u001b[0m     html.Div([\n",
      "\u001b[1;31mNameError\u001b[0m: name 'styles' is not defined"
     ]
    }
   ],
   "source": [
    "app.layout = html.Div([\n",
    "    dcc.Graph(\n",
    "        id='basic-interactions',\n",
    "        figure={\n",
    "            'data': [\n",
    "                {\n",
    "                    'x': [1, 2, 3, 4],\n",
    "                    'y': [4, 1, 3, 5],\n",
    "                    'text': ['a', 'b', 'c', 'd'],\n",
    "                    'customdata': ['c.a', 'c.b', 'c.c', 'c.d'],\n",
    "                    'name': 'Trace 1',\n",
    "                    'mode': 'markers',\n",
    "                    'marker': {'size': 12}\n",
    "                },\n",
    "                {\n",
    "                    'x': [1, 2, 3, 4],\n",
    "                    'y': [9, 4, 1, 4],\n",
    "                    'text': ['w', 'x', 'y', 'z'],\n",
    "                    'customdata': ['c.w', 'c.x', 'c.y', 'c.z'],\n",
    "                    'name': 'Trace 2',\n",
    "                    'mode': 'markers',\n",
    "                    'marker': {'size': 12}\n",
    "                }\n",
    "            ]\n",
    "        }\n",
    "    ),\n",
    "\n",
    "    html.Div([\n",
    "        dcc.Markdown(\"\"\"\n",
    "            **Hover Data**\n",
    "\n",
    "            Mouse over values in the graph.\n",
    "        \"\"\".replace('   ', '')),\n",
    "        html.Pre(id='hover-data')\n",
    "    ], style=styles['column']),\n",
    "\n",
    "    html.Div([\n",
    "        dcc.Markdown(\"\"\"\n",
    "            **Click Data**\n",
    "\n",
    "            Click on points in the graph.\n",
    "        \"\"\".replace('    ', '')),\n",
    "        html.Pre(id='click-data'),\n",
    "    ], style=styles['column']),\n",
    "\n",
    "    html.Div([\n",
    "        dcc.Markdown(\"\"\"\n",
    "            **Selection Data**\n",
    "\n",
    "            Choose the lasso or rectangle tool in the graph's menu\n",
    "            bar and then select points in the graph.\n",
    "        \"\"\".replace('    ', '')),\n",
    "        html.Pre(id='selected-data'),\n",
    "    ])\n",
    "])\n",
    "\n",
    "@app.callback(\n",
    "    Output('hover-data', 'children'),\n",
    "    [Input('basic-interactions', 'hoverData')])\n",
    "def display_hover_data(hoverData):\n",
    "    #\n",
    "    # This is where you can access the hover data\n",
    "    # This function will get called automatically when you hover over points\n",
    "    # hoverData will be equal to an object with that data\n",
    "    # You can compute something off of this data, and return it to the front-end UI\n",
    "    # \n",
    "\n",
    "\n",
    "    return json.dumps(hoverData, indent=2)\n",
    "\n",
    "\n",
    "@app.callback(\n",
    "    Output('click-data', 'children'),\n",
    "    [Input('basic-interactions', 'clickData')])\n",
    "def display_click_data(clickData):\n",
    "    # Similarly for data when you click on a point\n",
    "    return json.dumps(clickData, indent=2)\n",
    "\n",
    "\n",
    "@app.callback(\n",
    "    Output('selected-data', 'children'),\n",
    "    [Input('basic-interactions', 'selectedData')])\n",
    "def display_selected_data(selectedData):\n",
    "    # Similarly for data when you select a region\n",
    "    return json.dumps(selectedData, indent=2)\n",
    "\n",
    "\n",
    "if __name__ == '__main__':\n",
    "    app.run_server(debug=True)"
   ]
  },
  {
   "cell_type": "code",
   "execution_count": null,
   "id": "b0bd7eef",
   "metadata": {},
   "outputs": [],
   "source": []
  },
  {
   "cell_type": "code",
   "execution_count": null,
   "id": "f3b2f759",
   "metadata": {},
   "outputs": [],
   "source": []
  },
  {
   "cell_type": "code",
   "execution_count": null,
   "id": "a0295fe7",
   "metadata": {},
   "outputs": [],
   "source": []
  },
  {
   "cell_type": "code",
   "execution_count": null,
   "id": "013fe946",
   "metadata": {},
   "outputs": [],
   "source": []
  },
  {
   "cell_type": "code",
   "execution_count": null,
   "id": "3fa381b2",
   "metadata": {},
   "outputs": [],
   "source": []
  },
  {
   "cell_type": "code",
   "execution_count": null,
   "id": "c8d57445",
   "metadata": {},
   "outputs": [],
   "source": []
  }
 ],
 "metadata": {
  "kernelspec": {
   "display_name": "Python 3",
   "language": "python",
   "name": "python3"
  },
  "language_info": {
   "codemirror_mode": {
    "name": "ipython",
    "version": 3
   },
   "file_extension": ".py",
   "mimetype": "text/x-python",
   "name": "python",
   "nbconvert_exporter": "python",
   "pygments_lexer": "ipython3",
   "version": "3.8.8"
  },
  "toc": {
   "base_numbering": 1,
   "nav_menu": {},
   "number_sections": true,
   "sideBar": true,
   "skip_h1_title": false,
   "title_cell": "Table of Contents",
   "title_sidebar": "Contents",
   "toc_cell": false,
   "toc_position": {},
   "toc_section_display": true,
   "toc_window_display": false
  }
 },
 "nbformat": 4,
 "nbformat_minor": 5
}
